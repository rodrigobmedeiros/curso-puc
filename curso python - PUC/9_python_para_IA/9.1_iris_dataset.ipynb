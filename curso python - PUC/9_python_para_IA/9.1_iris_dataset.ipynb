{
 "cells": [
  {
   "cell_type": "markdown",
   "id": "206f917d",
   "metadata": {},
   "source": [
    "# Iris Dataset Analysis - Classification Problem\n",
    "\n",
    "O conjunto de dados Iris é um dos mais conhecidos e utilizados na área de análise de dados. Ele é amplamente utilizado para fins educacionais e também em tarefas de classificação. O conjunto de dados Iris contém informações sobre diferentes características de amostras de três espécies de plantas Iris: setosa, versicolor e virginica.\n",
    "\n",
    "O conjunto de dados Iris é composto por 150 instâncias, onde cada instância representa uma flor Iris. Cada instância possui quatro atributos: comprimento da sépala, largura da sépala, comprimento da pétala e largura da pétala. Esses atributos são medidas em centímetros.\n",
    "\n",
    "As três espécies de flores Iris presentes no conjunto de dados são classificadas com base em suas características. O objetivo comum é construir um modelo de classificação capaz de identificar corretamente a espécie de uma flor Iris desconhecida com base em seus atributos.\n",
    "\n",
    "![iris](src/iris.jpg)"
   ]
  },
  {
   "cell_type": "code",
   "execution_count": null,
   "id": "742529d1",
   "metadata": {},
   "outputs": [],
   "source": [
    "import pandas as pd # Pandas eh a biblioteca que permite facil manipulacao e operacao de dados em formato tabular\n",
    "from sklearn.model_selection import train_test_split\n",
    "from sklearn.neighbors import KNeighborsClassifier\n",
    "from sklearn.metrics import confusion_matrix\n",
    "import numpy as np\n",
    "import matplotlib.pyplot as plt\n",
    "import seaborn as sns\n",
    "import warnings\n",
    "warnings.filterwarnings('ignore')\n",
    "warnings.simplefilter('ignore')\n",
    "%matplotlib inline"
   ]
  },
  {
   "cell_type": "markdown",
   "id": "de6464f1",
   "metadata": {},
   "source": [
    "## Abrir o arquivo iris.csv"
   ]
  },
  {
   "cell_type": "code",
   "execution_count": null,
   "id": "190555d6",
   "metadata": {},
   "outputs": [],
   "source": [
    "df = pd.read_csv(r\".\\src\\iris.csv\").set_index('Id')"
   ]
  },
  {
   "cell_type": "markdown",
   "id": "7d6deb77",
   "metadata": {},
   "source": [
    "## Aplicar algumas exploracoes basicas"
   ]
  },
  {
   "cell_type": "code",
   "execution_count": null,
   "id": "4c6cd99d",
   "metadata": {},
   "outputs": [],
   "source": [
    "# Ver as primeiras n entradas\n",
    "# Por default aparecem 5 entradas\n",
    "df.head()"
   ]
  },
  {
   "cell_type": "code",
   "execution_count": null,
   "id": "91d028d7",
   "metadata": {},
   "outputs": [],
   "source": [
    "# Ver as ultimas n entradas\n",
    "# Por default aparecem 5 entradas\n",
    "\n",
    "\n",
    "df.tail()"
   ]
  },
  {
   "cell_type": "markdown",
   "id": "8bd7ba9e",
   "metadata": {},
   "source": [
    "## Informacoes gerais sobre o dataset"
   ]
  },
  {
   "cell_type": "code",
   "execution_count": null,
   "id": "f0ce5ffe",
   "metadata": {},
   "outputs": [],
   "source": [
    "df.info()"
   ]
  },
  {
   "cell_type": "code",
   "execution_count": null,
   "id": "5c439b50",
   "metadata": {},
   "outputs": [],
   "source": [
    "df.describe() # Aplicado a colunas numericas."
   ]
  },
  {
   "cell_type": "markdown",
   "id": "a851bfcb",
   "metadata": {},
   "source": [
    "## Como acessar uma coluna especifica"
   ]
  },
  {
   "cell_type": "code",
   "execution_count": null,
   "id": "d8f66a98",
   "metadata": {},
   "outputs": [],
   "source": [
    "# variavel_que_guarda_o_dataset['nome_da_coluna']\n",
    "# variavel_que_guarda_o_dataset.nome_da_coluna - Nao funciona para todos os nomes de colunas\n",
    "df['SepalLengthCm']"
   ]
  },
  {
   "cell_type": "code",
   "execution_count": null,
   "id": "5c1b41dc",
   "metadata": {},
   "outputs": [],
   "source": [
    "df.SepalWidthCm"
   ]
  },
  {
   "cell_type": "markdown",
   "id": "3e828614",
   "metadata": {},
   "source": [
    "## Contagem de diferentes valores em uma coluna"
   ]
  },
  {
   "cell_type": "code",
   "execution_count": null,
   "id": "18529f74",
   "metadata": {},
   "outputs": [],
   "source": [
    "df['Species'].value_counts()"
   ]
  },
  {
   "cell_type": "markdown",
   "id": "bc276eb2",
   "metadata": {},
   "source": [
    "Essa informacao eh muito importante pois em um problema de classificacao eh importante que os grupos estejam balanceados. Isso faz com que o modelo seja mais capaz de fazer predicoes pelos diferentes grupos.\n",
    "\n",
    "Em casos onde ha desbalanceamento, eh preciso usar tecnicas para aumentar ou reduzir o numero de amostras de um determinado grupo. "
   ]
  },
  {
   "cell_type": "markdown",
   "id": "c05c88e1",
   "metadata": {},
   "source": [
    "## Numero de entradas em uma coluna"
   ]
  },
  {
   "cell_type": "code",
   "execution_count": null,
   "id": "8d0f8e00",
   "metadata": {},
   "outputs": [],
   "source": [
    "df.Species.count()"
   ]
  },
  {
   "cell_type": "markdown",
   "id": "464e8d87",
   "metadata": {},
   "source": [
    "## Avaliacao de dados faltantes em uma coluna"
   ]
  },
  {
   "cell_type": "code",
   "execution_count": null,
   "id": "ec7a4a79",
   "metadata": {},
   "outputs": [],
   "source": [
    "df.Species.isna().sum()"
   ]
  },
  {
   "cell_type": "markdown",
   "id": "73638f6e",
   "metadata": {},
   "source": [
    "## Avaliacao de dados faltantes em todo o dataset"
   ]
  },
  {
   "cell_type": "code",
   "execution_count": null,
   "id": "574d5cb6",
   "metadata": {},
   "outputs": [],
   "source": [
    "df.isna().sum()"
   ]
  },
  {
   "cell_type": "markdown",
   "id": "2ae35742",
   "metadata": {},
   "source": [
    "## Calculo de estatisticas basicas em uma coluna"
   ]
  },
  {
   "cell_type": "markdown",
   "id": "f9eaf871",
   "metadata": {},
   "source": [
    "### Media"
   ]
  },
  {
   "cell_type": "code",
   "execution_count": null,
   "id": "d88b63e7",
   "metadata": {},
   "outputs": [],
   "source": [
    "df.SepalLengthCm.mean()"
   ]
  },
  {
   "cell_type": "markdown",
   "id": "32e7b95d",
   "metadata": {},
   "source": [
    "### Mediana"
   ]
  },
  {
   "cell_type": "code",
   "execution_count": null,
   "id": "89872198",
   "metadata": {},
   "outputs": [],
   "source": [
    "df.SepalLengthCm.median()"
   ]
  },
  {
   "cell_type": "markdown",
   "id": "b2cff0bf",
   "metadata": {},
   "source": [
    "### Maior valor"
   ]
  },
  {
   "cell_type": "code",
   "execution_count": null,
   "id": "fa27ee6a",
   "metadata": {},
   "outputs": [],
   "source": [
    "df.SepalLengthCm.max()"
   ]
  },
  {
   "cell_type": "markdown",
   "id": "819274f6",
   "metadata": {},
   "source": [
    "### Menor valor"
   ]
  },
  {
   "cell_type": "code",
   "execution_count": null,
   "id": "f98626d5",
   "metadata": {},
   "outputs": [],
   "source": [
    "df.SepalLengthCm.min()"
   ]
  },
  {
   "cell_type": "markdown",
   "id": "743265ef",
   "metadata": {},
   "source": [
    "### Numero de elementos unicos"
   ]
  },
  {
   "cell_type": "code",
   "execution_count": null,
   "id": "eb5e7ec5",
   "metadata": {},
   "outputs": [],
   "source": [
    "df.SepalLengthCm.nunique()"
   ]
  },
  {
   "cell_type": "code",
   "execution_count": null,
   "id": "36f35ec9",
   "metadata": {},
   "outputs": [],
   "source": [
    "# Posso utilizar sempre estruturas built-in do python\n",
    "len(set(df.SepalLengthCm))"
   ]
  },
  {
   "cell_type": "markdown",
   "id": "bc183647",
   "metadata": {},
   "source": [
    "### Desvio padrao"
   ]
  },
  {
   "cell_type": "code",
   "execution_count": null,
   "id": "25362546",
   "metadata": {},
   "outputs": [],
   "source": [
    "df.SepalLengthCm.std()"
   ]
  },
  {
   "cell_type": "markdown",
   "id": "2c2ed245",
   "metadata": {},
   "source": [
    "### Como criar novas colunas?"
   ]
  },
  {
   "cell_type": "code",
   "execution_count": null,
   "id": "a7e39e46",
   "metadata": {},
   "outputs": [],
   "source": [
    "df['nova_coluna'] = df.SepalLengthCm + df.SepalWidthCm"
   ]
  },
  {
   "cell_type": "code",
   "execution_count": null,
   "id": "166fd29c",
   "metadata": {},
   "outputs": [],
   "source": [
    "df.head()"
   ]
  },
  {
   "cell_type": "code",
   "execution_count": null,
   "id": "93c9b6b0",
   "metadata": {},
   "outputs": [],
   "source": [
    "del df['nova_coluna']\n",
    "df.head()"
   ]
  },
  {
   "cell_type": "markdown",
   "id": "36c1bdd0",
   "metadata": {},
   "source": [
    "### Como filtrar dados em um dataset"
   ]
  },
  {
   "cell_type": "code",
   "execution_count": null,
   "id": "91142820",
   "metadata": {},
   "outputs": [],
   "source": [
    "df[df['Species'] == 'Iris-setosa'].count()"
   ]
  },
  {
   "cell_type": "code",
   "execution_count": null,
   "id": "a7f2c55c",
   "metadata": {},
   "outputs": [],
   "source": [
    "df['Species'] == 'Iris-setosa'"
   ]
  },
  {
   "cell_type": "markdown",
   "id": "3af59261",
   "metadata": {},
   "source": [
    "### Analises feitas somente nos dados filtrados"
   ]
  },
  {
   "cell_type": "code",
   "execution_count": null,
   "id": "194c4019",
   "metadata": {},
   "outputs": [],
   "source": [
    "df[df['Species'] == 'Iris-setosa'].SepalLengthCm.mean()"
   ]
  },
  {
   "cell_type": "code",
   "execution_count": null,
   "id": "4a145e92",
   "metadata": {},
   "outputs": [],
   "source": [
    "df.SepalLengthCm.mean()"
   ]
  },
  {
   "cell_type": "markdown",
   "id": "e154a022",
   "metadata": {},
   "source": [
    "### Analise grafica\n",
    "\n",
    "#### Box Plot\n",
    "\n",
    "Nota-se o quao simples eh gerar um grafico a partir da propria biblioteca pandas"
   ]
  },
  {
   "cell_type": "code",
   "execution_count": null,
   "id": "ea567893",
   "metadata": {},
   "outputs": [],
   "source": [
    "df.boxplot()"
   ]
  },
  {
   "cell_type": "markdown",
   "id": "4c7c08fb",
   "metadata": {},
   "source": [
    "#### Pontos de analise de um box plot\n",
    "\n",
    "1) Mediana: A linha no centro da caixa representa a mediana, que indica o valor central dos dados. Uma mediana mais próxima do centro da caixa indica uma distribuição simétrica.\n",
    "\n",
    "2) Quartis: A caixa do box plot representa o intervalo interquartil (IQR), que é a diferença entre o terceiro quartil (Q3) e o primeiro quartil (Q1). Ele contém o meio 50% dos dados. Quanto maior a extensão da caixa, maior é a dispersão dos dados.\n",
    "\n",
    "3) Whiskers: As linhas que se estendem a partir da caixa são os \"whiskers\" e mostram a extensão dos dados. Eles podem ser calculados de diferentes maneiras. Uma opção comum é estender até 1,5 vezes o IQR a partir da caixa. Valores fora desses limites são considerados \"outliers\" e são representados como pontos separados.\n",
    "\n",
    "4) Outliers: Os pontos individuais além dos whiskers são chamados de outliers. Eles representam valores que estão significativamente distantes dos demais. É importante investigar a presença de outliers, pois eles podem indicar valores incomuns ou erros nos dados."
   ]
  },
  {
   "cell_type": "markdown",
   "id": "63a9d1e4",
   "metadata": {},
   "source": [
    "#### Scatter plot\n",
    "\n",
    "No caso de um problema de classificacao o scatter plot ou grafico de dispersao eh muito utilizado para ver quais variaveis sao capazes de separar os diferentes grupos.\n",
    "Eh interessante que meu modelo seja capaz de fazer predicoes corretas com o menor numero de entradas (variaveis possivel) tendo em vista diminuir o custo computacional."
   ]
  },
  {
   "cell_type": "code",
   "execution_count": null,
   "id": "8e067f27",
   "metadata": {
    "scrolled": false
   },
   "outputs": [],
   "source": [
    "sns.pairplot(df,hue='Species')\n",
    "plt.legend()"
   ]
  },
  {
   "cell_type": "markdown",
   "id": "c47fc26a",
   "metadata": {},
   "source": [
    "Eh possivel tirar algumas conclusoes  desse grafico:\n",
    "\n",
    "- Provavelmente a entrada SepalWidthCm nao eh capaz de separar os grupos de especies.\n",
    "- PetalWidthCm e PetalLengthCm sao boas candidatas para serem usadas em nosso modelo de classificacao."
   ]
  },
  {
   "cell_type": "markdown",
   "id": "7813f7a4",
   "metadata": {},
   "source": [
    "### Conclusao:\n",
    "\n",
    "Vamos construir um modelo capaz de predizer a especie de iris a partir das dimensoes de Sepala e Petala, baseado na analise grafica vamos usar apenas duas entradas, PedalWidthCm e PetalLengthCm"
   ]
  },
  {
   "cell_type": "markdown",
   "id": "77675ae1",
   "metadata": {},
   "source": [
    "Para este exercicio vamos usar o modelo KNN (k-Nearest Neighbors). \n",
    "De onde vem esse modelo? -> scikit-learn, a biblioteca mais utilizada quando o assunto eh machine learning em python"
   ]
  },
  {
   "cell_type": "code",
   "execution_count": null,
   "id": "7804e725",
   "metadata": {},
   "outputs": [],
   "source": [
    "knn = KNeighborsClassifier(n_neighbors=5) # Por default analisa-se 5 vizinhos\n",
    "\n",
    "# Dado um conjunto de dados, preciso de um conjunto de treino e um conjunto de teste\n",
    "# Dividir o dataset entre entradas (features) e saida (target)\n",
    "X = df[['PetalWidthCm', 'PetalLengthCm']]\n",
    "y = df['Species']\n",
    "\n",
    "# Split the dataset into training and testing sets\n",
    "X_train, X_test, y_train, y_test = train_test_split(X, y, test_size=0.2, random_state=42)"
   ]
  },
  {
   "cell_type": "markdown",
   "id": "666940b0",
   "metadata": {},
   "source": [
    "### Treinamento do modelo"
   ]
  },
  {
   "cell_type": "code",
   "execution_count": null,
   "id": "db8140a7",
   "metadata": {},
   "outputs": [],
   "source": [
    "knn.fit(X_train, y_train)"
   ]
  },
  {
   "cell_type": "markdown",
   "id": "7c224e93",
   "metadata": {},
   "source": [
    "### Fazendo predicoes"
   ]
  },
  {
   "cell_type": "code",
   "execution_count": null,
   "id": "85982be0",
   "metadata": {},
   "outputs": [],
   "source": [
    "y_predict = knn.predict(X_test)"
   ]
  },
  {
   "cell_type": "markdown",
   "id": "87a1fb73",
   "metadata": {},
   "source": [
    "### Analise dos resultados"
   ]
  },
  {
   "cell_type": "code",
   "execution_count": null,
   "id": "c1bd5ebf",
   "metadata": {},
   "outputs": [],
   "source": [
    "# Create a confusion matrix\n",
    "cm = confusion_matrix(y_test, y_predict)\n",
    "\n",
    "# Create a heatmap of the confusion matrix\n",
    "# '0: Iris-setosa', '1: Iris-versicolor', '2: Iris-virginica'\n",
    "sns.heatmap(cm, annot=True, fmt=\"d\", cmap=\"Blues\")\n",
    "plt.xlabel(\"Predicted\")\n",
    "plt.ylabel(\"Actual\")\n",
    "plt.title(\"Confusion Matrix\")\n",
    "'0: Iris-setosa', '1: Iris-versicolor', '2: Iris-virginica'\n",
    "plt.show()"
   ]
  }
 ],
 "metadata": {
  "kernelspec": {
   "display_name": "Python 3 (ipykernel)",
   "language": "python",
   "name": "python3"
  },
  "language_info": {
   "codemirror_mode": {
    "name": "ipython",
    "version": 3
   },
   "file_extension": ".py",
   "mimetype": "text/x-python",
   "name": "python",
   "nbconvert_exporter": "python",
   "pygments_lexer": "ipython3",
   "version": "3.10.9"
  }
 },
 "nbformat": 4,
 "nbformat_minor": 5
}
